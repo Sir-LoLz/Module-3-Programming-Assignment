{
 "cells": [
  {
   "cell_type": "markdown",
   "id": "8ea80f21-8dc0-479b-9fe8-6cb304bc6287",
   "metadata": {},
   "source": [
    "7.4 - 7.6"
   ]
  },
  {
   "cell_type": "code",
   "execution_count": 7,
   "id": "6171f37c-e56c-4874-a592-f459db6a91d6",
   "metadata": {},
   "outputs": [],
   "source": [
    "things = [\"mozzarella\",\"cinderella\",\"salmonella\"]"
   ]
  },
  {
   "cell_type": "code",
   "execution_count": 11,
   "id": "b26b292c-7c03-4eee-bb1c-b5f1710235ea",
   "metadata": {},
   "outputs": [
    {
     "name": "stdout",
     "output_type": "stream",
     "text": [
      "['mozzarella', 'Cinderella', 'salmonella']\n"
     ]
    }
   ],
   "source": [
    "things[1] = things[1].capitalize()\n",
    "print(things)"
   ]
  },
  {
   "cell_type": "code",
   "execution_count": 15,
   "id": "539be0c4-ebdc-4880-98a9-92a683392d59",
   "metadata": {},
   "outputs": [
    {
     "name": "stdout",
     "output_type": "stream",
     "text": [
      "['MOZZARELLA', 'Cinderella', 'salmonella']\n"
     ]
    }
   ],
   "source": [
    "things[0] = things[0].upper()\n",
    "print(things)"
   ]
  },
  {
   "cell_type": "code",
   "execution_count": 17,
   "id": "a093add3-4bc1-4cad-8cfb-a1c4790d5b79",
   "metadata": {},
   "outputs": [
    {
     "name": "stdout",
     "output_type": "stream",
     "text": [
      "['MOZZARELLA', 'Cinderella']\n"
     ]
    }
   ],
   "source": [
    "del things[things.index(\"salmonella\")]\n",
    "print(things)"
   ]
  },
  {
   "cell_type": "markdown",
   "id": "2a64cd54-889a-4b0f-b587-6ea0ab5eb5e3",
   "metadata": {},
   "source": [
    "9.1 - 9.2"
   ]
  },
  {
   "cell_type": "code",
   "execution_count": 23,
   "id": "a5761aa2-2064-4754-8e6f-10d9b9601a1c",
   "metadata": {},
   "outputs": [],
   "source": [
    "def good():\n",
    "    return [\"Harry\",\"Ron\",\"Hermione\"]"
   ]
  },
  {
   "cell_type": "code",
   "execution_count": 53,
   "id": "643ad738-c19c-4a2a-89dc-3226b7340fd9",
   "metadata": {},
   "outputs": [
    {
     "name": "stdout",
     "output_type": "stream",
     "text": [
      "5\n"
     ]
    }
   ],
   "source": [
    "def get_odds():\n",
    "    for i in range(10):\n",
    "        if i % 2 != 0:\n",
    "            yield i\n",
    "\n",
    "find_odd = get_odds()\n",
    "\n",
    "for index, value in enumerate(find_odd):\n",
    "    if index == 2:\n",
    "        print(value)\n",
    "    "
   ]
  },
  {
   "cell_type": "code",
   "execution_count": null,
   "id": "53f2dcd2-19de-4c93-bf92-80348c4ed632",
   "metadata": {},
   "outputs": [],
   "source": []
  }
 ],
 "metadata": {
  "kernelspec": {
   "display_name": "Python 3 (ipykernel)",
   "language": "python",
   "name": "python3"
  },
  "language_info": {
   "codemirror_mode": {
    "name": "ipython",
    "version": 3
   },
   "file_extension": ".py",
   "mimetype": "text/x-python",
   "name": "python",
   "nbconvert_exporter": "python",
   "pygments_lexer": "ipython3",
   "version": "3.12.4"
  }
 },
 "nbformat": 4,
 "nbformat_minor": 5
}
